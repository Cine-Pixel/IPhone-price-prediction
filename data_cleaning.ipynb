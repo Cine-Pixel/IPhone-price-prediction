{
 "cells": [
  {
   "cell_type": "markdown",
   "metadata": {},
   "source": [
    "# Data Cleaning"
   ]
  },
  {
   "cell_type": "code",
   "execution_count": 396,
   "metadata": {},
   "outputs": [],
   "source": [
    "import pandas as pd\n",
    "import numpy as np\n",
    "import matplotlib.pyplot as plt"
   ]
  },
  {
   "cell_type": "code",
   "execution_count": 397,
   "metadata": {},
   "outputs": [],
   "source": [
    "data = pd.read_csv(\"datasets/data.csv\")"
   ]
  },
  {
   "cell_type": "markdown",
   "metadata": {},
   "source": [
    "#### Extract product model from title"
   ]
  },
  {
   "cell_type": "code",
   "execution_count": 398,
   "metadata": {},
   "outputs": [],
   "source": [
    "def model_extractor(name: str):\n",
    "    brand = name.lower().split(\"iphone\")[-1]\n",
    "    result = \"\"\n",
    "    if len(brand) == 1 or len(brand) == 2:\n",
    "        result = brand\n",
    "    elif len(brand.split()) > 1 and brand.split()[0] in ['8plus', 'se', '5', '5s', '5c', '6', '6s', '6c', '7', '7s', '7c', '8+']:\n",
    "        result = brand.split()[0]\n",
    "    elif len(brand.split()) > 1 and brand.split()[1].isdigit():\n",
    "        result = brand.split()[0]\n",
    "    elif len(brand.split()) > 1 and brand.split()[0] in ['xr','x','xs','5','6','7','8','9','10','11','12']:\n",
    "        if brand.split()[1] == 'pro':\n",
    "            if len(brand.split()) > 2 and (brand.split()[2].isalnum() or brand.split()[2].isdigit()):\n",
    "                result = f\"{brand.split()[0]} {brand.split()[1]}\"\n",
    "            elif len(brand.split()) > 2 and brand.split()[2] == 'max':\n",
    "                result = f\"{brand.split()[0]} {brand.split()[1]} {brand.split()[2]}\"\n",
    "            else:\n",
    "                result = f\"{brand.split()[0]} {brand.split()[1]}\"\n",
    "        elif brand.split()[1] == 'max':\n",
    "            if len(brand.split()) > 2 and (brand.split()[2].isalnum() or brand.split()[2].isdigit()):\n",
    "                result = f\"{brand.split()[0]} {brand.split()[1]}\"\n",
    "            elif len(brand.split()) > 2 and brand.split()[2] == 'pro':\n",
    "                result = f\"{brand.split()[0]} {brand.split()[1]} {brand.split()[2]}\"\n",
    "            else:\n",
    "                result = f\"{brand.split()[0]} {brand.split()[1]}\"\n",
    "        elif brand.split()[1].isalnum():\n",
    "            result = brand.split()[0]\n",
    "        else:\n",
    "            result = brand\n",
    "    else:\n",
    "        result = brand\n",
    "        \n",
    "    return result \n",
    "\n",
    "data[\"model\"] = data.name.apply(model_extractor)"
   ]
  },
  {
   "cell_type": "code",
   "execution_count": 399,
   "metadata": {},
   "outputs": [],
   "source": [
    "data[\"model\"] = data.model.apply(lambda x: x.strip())"
   ]
  },
  {
   "cell_type": "code",
   "execution_count": 400,
   "metadata": {},
   "outputs": [],
   "source": [
    "data.drop(data[data.model.str.len() > 15].index, inplace=True)"
   ]
  },
  {
   "cell_type": "markdown",
   "metadata": {},
   "source": [
    "#### Remove \"Capacitors type\" junk from all columns"
   ]
  },
  {
   "cell_type": "code",
   "execution_count": 401,
   "metadata": {},
   "outputs": [],
   "source": [
    "for col in data.columns:\n",
    "    data[col] = data[col].apply(lambda x: x.replace(\"Capacitors type\", \"\") if isinstance(x, str) else x)"
   ]
  },
  {
   "cell_type": "markdown",
   "metadata": {},
   "source": [
    "#### Format price column"
   ]
  },
  {
   "cell_type": "code",
   "execution_count": 402,
   "metadata": {},
   "outputs": [],
   "source": [
    "def is_float(text: str) -> bool:\n",
    "    try:\n",
    "        float(text)\n",
    "        return True\n",
    "    except ValueError:\n",
    "        return False\n",
    "\n",
    "data.price = data.price.apply(lambda x: float(x.strip(\"\\ue600\")) if is_float(x.strip(\"\\ue600\")) else x)"
   ]
  },
  {
   "cell_type": "code",
   "execution_count": 403,
   "metadata": {},
   "outputs": [
    {
     "data": {
      "text/html": [
       "<div>\n",
       "<style scoped>\n",
       "    .dataframe tbody tr th:only-of-type {\n",
       "        vertical-align: middle;\n",
       "    }\n",
       "\n",
       "    .dataframe tbody tr th {\n",
       "        vertical-align: top;\n",
       "    }\n",
       "\n",
       "    .dataframe thead th {\n",
       "        text-align: right;\n",
       "    }\n",
       "</style>\n",
       "<table border=\"1\" class=\"dataframe\">\n",
       "  <thead>\n",
       "    <tr style=\"text-align: right;\">\n",
       "      <th></th>\n",
       "      <th>name</th>\n",
       "      <th>price</th>\n",
       "      <th>3G Network</th>\n",
       "      <th>5G</th>\n",
       "      <th>Battery Capacity</th>\n",
       "      <th>Card slot</th>\n",
       "      <th>Display type</th>\n",
       "      <th>GPS</th>\n",
       "      <th>Internal Memory</th>\n",
       "      <th>LTE (4G) Network</th>\n",
       "      <th>...</th>\n",
       "      <th>Screen size</th>\n",
       "      <th>SIM Multiple</th>\n",
       "      <th>Sim Size</th>\n",
       "      <th>Touch Screen</th>\n",
       "      <th>Wi-Fi</th>\n",
       "      <th>Year</th>\n",
       "      <th>OS version</th>\n",
       "      <th>Selfie Camera</th>\n",
       "      <th>IP Certificate</th>\n",
       "      <th>model</th>\n",
       "    </tr>\n",
       "  </thead>\n",
       "  <tbody>\n",
       "  </tbody>\n",
       "</table>\n",
       "<p>0 rows × 25 columns</p>\n",
       "</div>"
      ],
      "text/plain": [
       "Empty DataFrame\n",
       "Columns: [name, price, 3G Network, 5G, Battery Capacity, Card slot, Display type, GPS, Internal Memory, LTE (4G) Network, NFC, Number of cameras, Operating System, Primary Camera, RAM, Screen size, SIM Multiple, Sim Size, Touch Screen, Wi-Fi, Year, OS version, Selfie Camera, IP Certificate, model]\n",
       "Index: []\n",
       "\n",
       "[0 rows x 25 columns]"
      ]
     },
     "execution_count": 403,
     "metadata": {},
     "output_type": "execute_result"
    }
   ],
   "source": [
    "data.loc[data.price == \"Price negotiable\", \"price\"] = pd.NA\n",
    "data.loc[198].model = '8'\n",
    "data.loc[198].price = data[data.model == '8'].price.mean()\n",
    "\n",
    "data.loc[357].price = data[data.model == 'x'].price.mean()\n",
    "data.drop(data.index[279], inplace=True)\n",
    "data[data.price.isna()]"
   ]
  },
  {
   "cell_type": "code",
   "execution_count": 404,
   "metadata": {},
   "outputs": [],
   "source": [
    "data.price = data.price.apply(lambda x: float(x))"
   ]
  },
  {
   "cell_type": "markdown",
   "metadata": {},
   "source": [
    "#### Format number of cameras"
   ]
  },
  {
   "cell_type": "code",
   "execution_count": 405,
   "metadata": {},
   "outputs": [],
   "source": [
    "def format_number_of_cameras(cameras: str):\n",
    "    cameras = cameras.lower() \n",
    "    if cameras == 'one':\n",
    "        return 1\n",
    "    elif cameras == 'two':\n",
    "        return 2\n",
    "    elif cameras == 'three':\n",
    "        return 3\n",
    "    elif cameras == 'four':\n",
    "        return 4\n",
    "    elif cameras == 'five':\n",
    "        return 5\n",
    "    elif cameras == 'six':\n",
    "        return 6\n",
    "    elif cameras == 'no':\n",
    "        return 0\n",
    "    else:\n",
    "        return pd.NA\n",
    "\n",
    "data[\"Number of cameras\"] = data[\"Number of cameras\"].apply(format_number_of_cameras)"
   ]
  },
  {
   "cell_type": "code",
   "execution_count": 406,
   "metadata": {},
   "outputs": [],
   "source": [
    "for i, row in data[data[\"Number of cameras\"] > 3].iterrows():\n",
    "    data.loc[i, \"Number of cameras\"] = data[data.model == row[\"model\"]][\"Number of cameras\"].mode()[0]"
   ]
  },
  {
   "cell_type": "markdown",
   "metadata": {},
   "source": [
    "#### Format Internal Memory"
   ]
  },
  {
   "cell_type": "code",
   "execution_count": 407,
   "metadata": {},
   "outputs": [],
   "source": [
    "data['Internal Memory'].fillna(data['Internal Memory'].mode()[0], inplace=True)\n",
    "data['Internal Memory'] = data[\"Internal Memory\"].apply(lambda x: int(x.lower().replace(\"gb\", \"\")))"
   ]
  },
  {
   "cell_type": "markdown",
   "metadata": {},
   "source": [
    "#### Format Battery Capacity"
   ]
  },
  {
   "cell_type": "code",
   "execution_count": 408,
   "metadata": {},
   "outputs": [],
   "source": [
    "data['Battery Capacity'] = data['Battery Capacity'].apply(lambda x: int(x))"
   ]
  },
  {
   "cell_type": "markdown",
   "metadata": {},
   "source": [
    "#### Format RAM"
   ]
  },
  {
   "cell_type": "code",
   "execution_count": 409,
   "metadata": {},
   "outputs": [],
   "source": [
    "def format_ram(ram: str):\n",
    "    if 'mb' in ram.lower():\n",
    "        return float(ram.lower().split('mb')[0].strip()) / 1024\n",
    "    else:\n",
    "        return float(ram.lower().replace('gb', '').strip())\n",
    "\n",
    "\n",
    "\n",
    "data['RAM'].fillna(data['RAM'].mode()[0], inplace=True)\n",
    "data['RAM'] = data[\"RAM\"].apply(format_ram)"
   ]
  },
  {
   "cell_type": "markdown",
   "metadata": {},
   "source": [
    "#### Format Primary and Selfie cameras"
   ]
  },
  {
   "cell_type": "code",
   "execution_count": 410,
   "metadata": {},
   "outputs": [],
   "source": [
    "for i, row in data[data['Primary Camera'].isna()].iterrows():\n",
    "    mode = data[data.model == row.model][\"Primary Camera\"].mode()\n",
    "    if len(mode) > 1:\n",
    "        data.loc[i, 'Primary Camera'] = mode[0]\n",
    "    else:\n",
    "        data.loc[i, 'Primary Camera'] = np.nan\n",
    "\n",
    "for i, row in data[data['Selfie Camera'].isna()].iterrows():\n",
    "    mode = data[data.model == row.model]['Selfie Camera'].mode()\n",
    "    if len(mode) > 1:\n",
    "        data.loc[i, 'Selfie Camera'] = mode[0]\n",
    "    else:\n",
    "        data.loc[i, 'Selfie Camera'] = np.nan"
   ]
  },
  {
   "cell_type": "code",
   "execution_count": 412,
   "metadata": {},
   "outputs": [],
   "source": [
    "data.drop(data[data['Primary Camera'].isna()].index, inplace=True)\n",
    "data.drop(data[data['Selfie Camera'].isna()].index, inplace=True)\n",
    "data['Primary Camera'] = data['Primary Camera'].apply(lambda x: int(x.lower().replace('mp', '').strip()))\n",
    "data['Selfie Camera'] = data['Selfie Camera'].apply(lambda x: int(x.lower().replace('mp', '').strip()))"
   ]
  },
  {
   "cell_type": "markdown",
   "metadata": {},
   "source": [
    "#### Format Screen Size"
   ]
  },
  {
   "cell_type": "code",
   "execution_count": 422,
   "metadata": {},
   "outputs": [],
   "source": [
    "data['Screen size'] = data['Screen size'].apply(lambda x: x.lower().replace('inch', '').strip())\n",
    "data['Screen size'] = data['Screen size'].apply(lambda x: x.lower().replace('ორ less', '').strip())\n",
    "data['Screen size'] = data['Screen size'].apply(lambda x: float(x))"
   ]
  },
  {
   "cell_type": "code",
   "execution_count": 426,
   "metadata": {},
   "outputs": [],
   "source": [
    "data.to_csv(\"datasets/cleaned_data.csv\")"
   ]
  }
 ],
 "metadata": {
  "interpreter": {
   "hash": "b9093a1ddd1e5a1702194cb97bbe1c4516ab068916d9c0e38046918de0d5914d"
  },
  "kernelspec": {
   "display_name": "Python 3.9.2 64-bit ('env': venv)",
   "language": "python",
   "name": "python3"
  },
  "language_info": {
   "codemirror_mode": {
    "name": "ipython",
    "version": 3
   },
   "file_extension": ".py",
   "mimetype": "text/x-python",
   "name": "python",
   "nbconvert_exporter": "python",
   "pygments_lexer": "ipython3",
   "version": "3.9.2"
  },
  "orig_nbformat": 4
 },
 "nbformat": 4,
 "nbformat_minor": 2
}
