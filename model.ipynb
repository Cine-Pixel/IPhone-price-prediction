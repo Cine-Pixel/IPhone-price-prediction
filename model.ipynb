{
 "cells": [
  {
   "cell_type": "code",
   "execution_count": 2,
   "metadata": {},
   "outputs": [],
   "source": [
    "import pandas as pd\n",
    "import numpy as np\n",
    "from sklearn.linear_model import LinearRegression, Lasso\n",
    "from sklearn.model_selection import train_test_split, cross_val_score\n",
    "from sklearn.metrics import mean_absolute_error"
   ]
  },
  {
   "cell_type": "markdown",
   "metadata": {},
   "source": [
    "#### Train - Test split"
   ]
  },
  {
   "cell_type": "code",
   "execution_count": 99,
   "metadata": {},
   "outputs": [],
   "source": [
    "data = pd.read_csv(\"datasets/model_data.csv\")\n",
    "data_frame_trimmed = data.apply(lambda x: x.astype(str).str.lower() if x.dtype == \"object\" else x)\n",
    "data_frame_trimmed = data.apply(lambda x: x.str.strip() if x.dtype == \"object\" else x)"
   ]
  },
  {
   "cell_type": "code",
   "execution_count": 100,
   "metadata": {},
   "outputs": [],
   "source": [
    "data_frame_trimmed.rename(columns={'5G': '5g', 'Battery Capacity': 'battery', \n",
    "    'Card slot': 'card_slot', \n",
    "    'Display type': 'display_type',\n",
    "    'GPS': 'gps',\n",
    "    'Internal Memory': 'internal_memory',\n",
    "    'LTE (4G) Network': '4g',\n",
    "    'NFC': 'nfc',\n",
    "    'Number of cameras': 'num_of_cameras',\n",
    "    'Primary Camera': 'primary_cam',\n",
    "    'RAM': 'ram',\n",
    "    'Screen size': 'screen_size',\n",
    "    'Year': 'year', \n",
    "    'Selfie Camera': 'selfie_cam'\n",
    "}, inplace=True)"
   ]
  },
  {
   "cell_type": "code",
   "execution_count": 101,
   "metadata": {},
   "outputs": [],
   "source": [
    "X = pd.get_dummies(data_frame_trimmed.drop(['name', 'price'], axis=1))\n",
    "y = data_frame_trimmed.price\n",
    "\n",
    "X_train, X_test, y_train, y_test = train_test_split(X, y, test_size = .2, random_state = 1)"
   ]
  },
  {
   "cell_type": "markdown",
   "metadata": {},
   "source": [
    "#### Linear Regression"
   ]
  },
  {
   "cell_type": "code",
   "execution_count": 102,
   "metadata": {},
   "outputs": [
    {
     "name": "stdout",
     "output_type": "stream",
     "text": [
      "147.7080112891959\n",
      "176.2236846099498\n"
     ]
    }
   ],
   "source": [
    "lr = LinearRegression()\n",
    "lr.fit(X_train, y_train)\n",
    "\n",
    "print(mean_absolute_error(y_train, lr.predict(X_train)))\n",
    "print(mean_absolute_error(y_test, lr.predict(X_test)))"
   ]
  },
  {
   "cell_type": "code",
   "execution_count": 103,
   "metadata": {},
   "outputs": [
    {
     "name": "stdout",
     "output_type": "stream",
     "text": [
      "208.68034924166204\n",
      "200.0\n"
     ]
    }
   ],
   "source": [
    "print(lr.predict(X_test)[3])\n",
    "print(y_test.iloc[3])"
   ]
  },
  {
   "cell_type": "markdown",
   "metadata": {},
   "source": [
    "#### Lasso"
   ]
  },
  {
   "cell_type": "code",
   "execution_count": 105,
   "metadata": {},
   "outputs": [
    {
     "name": "stdout",
     "output_type": "stream",
     "text": [
      "148.77647626048628\n",
      "174.51144599295313\n"
     ]
    }
   ],
   "source": [
    "ls = Lasso(alpha=.13)\n",
    "ls.fit(X_train, y_train)\n",
    "\n",
    "print(mean_absolute_error(y_train, ls.predict(X_train)))\n",
    "print(mean_absolute_error(y_test, ls.predict(X_test)))"
   ]
  },
  {
   "cell_type": "code",
   "execution_count": 106,
   "metadata": {},
   "outputs": [
    {
     "name": "stdout",
     "output_type": "stream",
     "text": [
      "224.12509716400564\n",
      "200.0\n"
     ]
    }
   ],
   "source": [
    "print(ls.predict(X_test)[3])\n",
    "print(y_test.iloc[3])"
   ]
  },
  {
   "cell_type": "markdown",
   "metadata": {},
   "source": [
    "#### Save model"
   ]
  },
  {
   "cell_type": "code",
   "execution_count": 107,
   "metadata": {},
   "outputs": [],
   "source": [
    "import pickle\n",
    "\n",
    "pckl = {\"model\": lr}\n",
    "pickle.dump(pckl, open('model.p', \"wb\"))"
   ]
  },
  {
   "cell_type": "code",
   "execution_count": 111,
   "metadata": {},
   "outputs": [
    {
     "name": "stdout",
     "output_type": "stream",
     "text": [
      "208.68034924166204\n",
      "200.0\n"
     ]
    }
   ],
   "source": [
    "with open('flask_app/ml_models/model.p', 'rb') as f:\n",
    "    m = pickle.load(f)['model']\n",
    "\n",
    "print(m.predict(X_test)[3])\n",
    "print(y_test.iloc[3])"
   ]
  }
 ],
 "metadata": {
  "interpreter": {
   "hash": "b9093a1ddd1e5a1702194cb97bbe1c4516ab068916d9c0e38046918de0d5914d"
  },
  "kernelspec": {
   "display_name": "Python 3.9.2 64-bit ('env': venv)",
   "language": "python",
   "name": "python3"
  },
  "language_info": {
   "codemirror_mode": {
    "name": "ipython",
    "version": 3
   },
   "file_extension": ".py",
   "mimetype": "text/x-python",
   "name": "python",
   "nbconvert_exporter": "python",
   "pygments_lexer": "ipython3",
   "version": "3.9.2"
  },
  "orig_nbformat": 4
 },
 "nbformat": 4,
 "nbformat_minor": 2
}
