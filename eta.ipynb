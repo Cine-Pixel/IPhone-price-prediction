{
 "cells": [
  {
   "cell_type": "markdown",
   "metadata": {},
   "source": [
    "# ETA"
   ]
  },
  {
   "cell_type": "code",
   "execution_count": 118,
   "metadata": {},
   "outputs": [],
   "source": [
    "import numpy as np\n",
    "import pandas as pd\n",
    "import matplotlib.pyplot as plt"
   ]
  },
  {
   "cell_type": "code",
   "execution_count": 82,
   "metadata": {},
   "outputs": [],
   "source": [
    "data = pd.read_csv(\"datasets/cleaned_data.csv\")\n",
    "data = data.drop(['Wi-Fi', 'Touch Screen'], axis=1).dropna()"
   ]
  },
  {
   "cell_type": "code",
   "execution_count": 84,
   "metadata": {},
   "outputs": [
    {
     "data": {
      "text/html": [
       "<div>\n",
       "<style scoped>\n",
       "    .dataframe tbody tr th:only-of-type {\n",
       "        vertical-align: middle;\n",
       "    }\n",
       "\n",
       "    .dataframe tbody tr th {\n",
       "        vertical-align: top;\n",
       "    }\n",
       "\n",
       "    .dataframe thead th {\n",
       "        text-align: right;\n",
       "    }\n",
       "</style>\n",
       "<table border=\"1\" class=\"dataframe\">\n",
       "  <thead>\n",
       "    <tr style=\"text-align: right;\">\n",
       "      <th></th>\n",
       "      <th>price</th>\n",
       "      <th>Battery Capacity</th>\n",
       "      <th>Internal Memory</th>\n",
       "      <th>Number of cameras</th>\n",
       "      <th>Primary Camera</th>\n",
       "      <th>RAM</th>\n",
       "      <th>Screen size</th>\n",
       "      <th>Selfie Camera</th>\n",
       "    </tr>\n",
       "  </thead>\n",
       "  <tbody>\n",
       "    <tr>\n",
       "      <th>count</th>\n",
       "      <td>308.000000</td>\n",
       "      <td>308.000000</td>\n",
       "      <td>308.000000</td>\n",
       "      <td>308.000000</td>\n",
       "      <td>308.000000</td>\n",
       "      <td>308.000000</td>\n",
       "      <td>308.000000</td>\n",
       "      <td>308.000000</td>\n",
       "    </tr>\n",
       "    <tr>\n",
       "      <th>mean</th>\n",
       "      <td>1033.638148</td>\n",
       "      <td>2478.425325</td>\n",
       "      <td>69.038961</td>\n",
       "      <td>1.805195</td>\n",
       "      <td>11.639610</td>\n",
       "      <td>3.582792</td>\n",
       "      <td>5.272045</td>\n",
       "      <td>6.152597</td>\n",
       "    </tr>\n",
       "    <tr>\n",
       "      <th>std</th>\n",
       "      <td>873.286862</td>\n",
       "      <td>1131.125612</td>\n",
       "      <td>67.297471</td>\n",
       "      <td>0.727119</td>\n",
       "      <td>10.983997</td>\n",
       "      <td>1.935136</td>\n",
       "      <td>0.862410</td>\n",
       "      <td>6.269160</td>\n",
       "    </tr>\n",
       "    <tr>\n",
       "      <th>min</th>\n",
       "      <td>30.000000</td>\n",
       "      <td>500.000000</td>\n",
       "      <td>4.000000</td>\n",
       "      <td>0.000000</td>\n",
       "      <td>1.000000</td>\n",
       "      <td>0.500000</td>\n",
       "      <td>3.000000</td>\n",
       "      <td>1.000000</td>\n",
       "    </tr>\n",
       "    <tr>\n",
       "      <th>25%</th>\n",
       "      <td>350.000000</td>\n",
       "      <td>1800.000000</td>\n",
       "      <td>32.000000</td>\n",
       "      <td>1.000000</td>\n",
       "      <td>8.000000</td>\n",
       "      <td>2.000000</td>\n",
       "      <td>4.700000</td>\n",
       "      <td>1.000000</td>\n",
       "    </tr>\n",
       "    <tr>\n",
       "      <th>50%</th>\n",
       "      <td>800.000000</td>\n",
       "      <td>2350.000000</td>\n",
       "      <td>64.000000</td>\n",
       "      <td>2.000000</td>\n",
       "      <td>12.000000</td>\n",
       "      <td>4.000000</td>\n",
       "      <td>5.150000</td>\n",
       "      <td>5.000000</td>\n",
       "    </tr>\n",
       "    <tr>\n",
       "      <th>75%</th>\n",
       "      <td>1400.000000</td>\n",
       "      <td>3000.000000</td>\n",
       "      <td>64.000000</td>\n",
       "      <td>2.000000</td>\n",
       "      <td>12.000000</td>\n",
       "      <td>4.000000</td>\n",
       "      <td>6.000000</td>\n",
       "      <td>8.000000</td>\n",
       "    </tr>\n",
       "    <tr>\n",
       "      <th>max</th>\n",
       "      <td>3700.000000</td>\n",
       "      <td>10000.000000</td>\n",
       "      <td>512.000000</td>\n",
       "      <td>4.000000</td>\n",
       "      <td>64.000000</td>\n",
       "      <td>12.000000</td>\n",
       "      <td>6.700000</td>\n",
       "      <td>64.000000</td>\n",
       "    </tr>\n",
       "  </tbody>\n",
       "</table>\n",
       "</div>"
      ],
      "text/plain": [
       "             price  Battery Capacity  Internal Memory  Number of cameras  \\\n",
       "count   308.000000        308.000000       308.000000         308.000000   \n",
       "mean   1033.638148       2478.425325        69.038961           1.805195   \n",
       "std     873.286862       1131.125612        67.297471           0.727119   \n",
       "min      30.000000        500.000000         4.000000           0.000000   \n",
       "25%     350.000000       1800.000000        32.000000           1.000000   \n",
       "50%     800.000000       2350.000000        64.000000           2.000000   \n",
       "75%    1400.000000       3000.000000        64.000000           2.000000   \n",
       "max    3700.000000      10000.000000       512.000000           4.000000   \n",
       "\n",
       "       Primary Camera         RAM  Screen size  Selfie Camera  \n",
       "count      308.000000  308.000000   308.000000     308.000000  \n",
       "mean        11.639610    3.582792     5.272045       6.152597  \n",
       "std         10.983997    1.935136     0.862410       6.269160  \n",
       "min          1.000000    0.500000     3.000000       1.000000  \n",
       "25%          8.000000    2.000000     4.700000       1.000000  \n",
       "50%         12.000000    4.000000     5.150000       5.000000  \n",
       "75%         12.000000    4.000000     6.000000       8.000000  \n",
       "max         64.000000   12.000000     6.700000      64.000000  "
      ]
     },
     "execution_count": 84,
     "metadata": {},
     "output_type": "execute_result"
    }
   ],
   "source": [
    "data.describe()"
   ]
  },
  {
   "cell_type": "code",
   "execution_count": 128,
   "metadata": {},
   "outputs": [
    {
     "data": {
      "text/html": [
       "<div>\n",
       "<style scoped>\n",
       "    .dataframe tbody tr th:only-of-type {\n",
       "        vertical-align: middle;\n",
       "    }\n",
       "\n",
       "    .dataframe tbody tr th {\n",
       "        vertical-align: top;\n",
       "    }\n",
       "\n",
       "    .dataframe thead th {\n",
       "        text-align: right;\n",
       "    }\n",
       "</style>\n",
       "<table border=\"1\" class=\"dataframe\">\n",
       "  <thead>\n",
       "    <tr style=\"text-align: right;\">\n",
       "      <th></th>\n",
       "      <th>price</th>\n",
       "      <th>Battery Capacity</th>\n",
       "      <th>Internal Memory</th>\n",
       "      <th>Number of cameras</th>\n",
       "      <th>Primary Camera</th>\n",
       "      <th>RAM</th>\n",
       "      <th>Screen size</th>\n",
       "      <th>Selfie Camera</th>\n",
       "    </tr>\n",
       "  </thead>\n",
       "  <tbody>\n",
       "    <tr>\n",
       "      <th>price</th>\n",
       "      <td>1.000000</td>\n",
       "      <td>0.507281</td>\n",
       "      <td>0.449711</td>\n",
       "      <td>0.680588</td>\n",
       "      <td>0.125236</td>\n",
       "      <td>0.443302</td>\n",
       "      <td>0.665629</td>\n",
       "      <td>0.175261</td>\n",
       "    </tr>\n",
       "    <tr>\n",
       "      <th>Battery Capacity</th>\n",
       "      <td>0.507281</td>\n",
       "      <td>1.000000</td>\n",
       "      <td>0.235054</td>\n",
       "      <td>0.412919</td>\n",
       "      <td>0.103434</td>\n",
       "      <td>0.336268</td>\n",
       "      <td>0.521642</td>\n",
       "      <td>0.119862</td>\n",
       "    </tr>\n",
       "    <tr>\n",
       "      <th>Internal Memory</th>\n",
       "      <td>0.449711</td>\n",
       "      <td>0.235054</td>\n",
       "      <td>1.000000</td>\n",
       "      <td>0.417396</td>\n",
       "      <td>0.132829</td>\n",
       "      <td>0.238454</td>\n",
       "      <td>0.394747</td>\n",
       "      <td>-0.002353</td>\n",
       "    </tr>\n",
       "    <tr>\n",
       "      <th>Number of cameras</th>\n",
       "      <td>0.680588</td>\n",
       "      <td>0.412919</td>\n",
       "      <td>0.417396</td>\n",
       "      <td>1.000000</td>\n",
       "      <td>0.143307</td>\n",
       "      <td>0.364532</td>\n",
       "      <td>0.562473</td>\n",
       "      <td>0.167321</td>\n",
       "    </tr>\n",
       "    <tr>\n",
       "      <th>Primary Camera</th>\n",
       "      <td>0.125236</td>\n",
       "      <td>0.103434</td>\n",
       "      <td>0.132829</td>\n",
       "      <td>0.143307</td>\n",
       "      <td>1.000000</td>\n",
       "      <td>0.019798</td>\n",
       "      <td>0.118075</td>\n",
       "      <td>0.538167</td>\n",
       "    </tr>\n",
       "    <tr>\n",
       "      <th>RAM</th>\n",
       "      <td>0.443302</td>\n",
       "      <td>0.336268</td>\n",
       "      <td>0.238454</td>\n",
       "      <td>0.364532</td>\n",
       "      <td>0.019798</td>\n",
       "      <td>1.000000</td>\n",
       "      <td>0.319096</td>\n",
       "      <td>-0.013933</td>\n",
       "    </tr>\n",
       "    <tr>\n",
       "      <th>Screen size</th>\n",
       "      <td>0.665629</td>\n",
       "      <td>0.521642</td>\n",
       "      <td>0.394747</td>\n",
       "      <td>0.562473</td>\n",
       "      <td>0.118075</td>\n",
       "      <td>0.319096</td>\n",
       "      <td>1.000000</td>\n",
       "      <td>0.167346</td>\n",
       "    </tr>\n",
       "    <tr>\n",
       "      <th>Selfie Camera</th>\n",
       "      <td>0.175261</td>\n",
       "      <td>0.119862</td>\n",
       "      <td>-0.002353</td>\n",
       "      <td>0.167321</td>\n",
       "      <td>0.538167</td>\n",
       "      <td>-0.013933</td>\n",
       "      <td>0.167346</td>\n",
       "      <td>1.000000</td>\n",
       "    </tr>\n",
       "  </tbody>\n",
       "</table>\n",
       "</div>"
      ],
      "text/plain": [
       "                      price  Battery Capacity  Internal Memory  \\\n",
       "price              1.000000          0.507281         0.449711   \n",
       "Battery Capacity   0.507281          1.000000         0.235054   \n",
       "Internal Memory    0.449711          0.235054         1.000000   \n",
       "Number of cameras  0.680588          0.412919         0.417396   \n",
       "Primary Camera     0.125236          0.103434         0.132829   \n",
       "RAM                0.443302          0.336268         0.238454   \n",
       "Screen size        0.665629          0.521642         0.394747   \n",
       "Selfie Camera      0.175261          0.119862        -0.002353   \n",
       "\n",
       "                   Number of cameras  Primary Camera       RAM  Screen size  \\\n",
       "price                       0.680588        0.125236  0.443302     0.665629   \n",
       "Battery Capacity            0.412919        0.103434  0.336268     0.521642   \n",
       "Internal Memory             0.417396        0.132829  0.238454     0.394747   \n",
       "Number of cameras           1.000000        0.143307  0.364532     0.562473   \n",
       "Primary Camera              0.143307        1.000000  0.019798     0.118075   \n",
       "RAM                         0.364532        0.019798  1.000000     0.319096   \n",
       "Screen size                 0.562473        0.118075  0.319096     1.000000   \n",
       "Selfie Camera               0.167321        0.538167 -0.013933     0.167346   \n",
       "\n",
       "                   Selfie Camera  \n",
       "price                   0.175261  \n",
       "Battery Capacity        0.119862  \n",
       "Internal Memory        -0.002353  \n",
       "Number of cameras       0.167321  \n",
       "Primary Camera          0.538167  \n",
       "RAM                    -0.013933  \n",
       "Screen size             0.167346  \n",
       "Selfie Camera           1.000000  "
      ]
     },
     "execution_count": 128,
     "metadata": {},
     "output_type": "execute_result"
    }
   ],
   "source": [
    "data.corr()"
   ]
  },
  {
   "cell_type": "code",
   "execution_count": 89,
   "metadata": {},
   "outputs": [
    {
     "name": "stdout",
     "output_type": "stream",
     "text": [
      "Mean Price: 1033.638147887013\n",
      "Price std: 873.2868624370494\n",
      "50th Percentile (median): 800.0\n"
     ]
    }
   ],
   "source": [
    "print(f\"Mean Price: {data.price.mean()}\")\n",
    "print(f\"Price std: {data.price.std()}\")\n",
    "print(f\"50th Percentile (median): {data.price.quantile(.5)}\")"
   ]
  },
  {
   "cell_type": "code",
   "execution_count": 123,
   "metadata": {},
   "outputs": [
    {
     "data": {
      "image/png": "[encoded data removed]",
      "text/plain": [
       "<Figure size 864x576 with 1 Axes>"
      ]
     },
     "metadata": {},
     "output_type": "display_data"
    }
   ],
   "source": [
    "plt.style.use(\"ggplot\")\n",
    "\n",
    "plt.figure(figsize=(12, 8))\n",
    "for model in data.model.unique():\n",
    "    plt.barh(model, data[data['model'] == model].price.mean())\n",
    "\n",
    "plt.title(\"Average price for each model\")\n",
    "plt.xlabel(\"Price\")\n",
    "plt.ylabel(\"Model\")\n",
    "plt.show()"
   ]
  },
  {
   "cell_type": "code",
   "execution_count": 126,
   "metadata": {},
   "outputs": [
    {
     "data": {
      "image/png": "[encoded data removed]",
      "text/plain": [
       "<Figure size 864x576 with 1 Axes>"
      ]
     },
     "metadata": {},
     "output_type": "display_data"
    }
   ],
   "source": [
    "plt.figure(figsize=(12, 8))\n",
    "for model in data.model.unique():\n",
    "    plt.barh(model, data[data['model'] == model]['Battery Capacity'].mean())\n",
    "\n",
    "plt.title(\"Average battery capacity for each model\")\n",
    "plt.xlabel(\"Battery Capacity\")\n",
    "plt.ylabel(\"Model\")\n",
    "plt.show()"
   ]
  },
  {
   "cell_type": "code",
   "execution_count": 136,
   "metadata": {},
   "outputs": [],
   "source": [
    "data.Year = data.Year.apply(lambda x: int(x.replace(\"Y.\", '').strip()))"
   ]
  },
  {
   "cell_type": "code",
   "execution_count": 141,
   "metadata": {},
   "outputs": [],
   "source": [
    "data.drop(['3G Network', 'Operating System', 'SIM Multiple', 'Sim Size'], axis=1, inplace=True)"
   ]
  },
  {
   "cell_type": "code",
   "execution_count": 142,
   "metadata": {},
   "outputs": [],
   "source": [
    "data.to_csv(\"datasets/model_data.csv\")"
   ]
  }
 ],
 "metadata": {
  "interpreter": {
   "hash": "b9093a1ddd1e5a1702194cb97bbe1c4516ab068916d9c0e38046918de0d5914d"
  },
  "kernelspec": {
   "display_name": "Python 3.9.2 64-bit ('env': venv)",
   "language": "python",
   "name": "python3"
  },
  "language_info": {
   "codemirror_mode": {
    "name": "ipython",
    "version": 3
   },
   "file_extension": ".py",
   "mimetype": "text/x-python",
   "name": "python",
   "nbconvert_exporter": "python",
   "pygments_lexer": "ipython3",
   "version": "3.9.2"
  },
  "orig_nbformat": 4
 },
 "nbformat": 4,
 "nbformat_minor": 2
}
